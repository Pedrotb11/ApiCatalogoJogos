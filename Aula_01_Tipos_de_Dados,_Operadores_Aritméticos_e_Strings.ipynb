{
  "nbformat": 4,
  "nbformat_minor": 0,
  "metadata": {
    "colab": {
      "name": "Aula 01 - Tipos de Dados, Operadores Aritméticos e Strings.ipynb",
      "provenance": [],
      "collapsed_sections": [],
      "include_colab_link": true
    },
    "kernelspec": {
      "name": "python3",
      "display_name": "Python 3"
    }
  },
  "cells": [
    {
      "cell_type": "markdown",
      "metadata": {
        "id": "view-in-github",
        "colab_type": "text"
      },
      "source": [
        "<a href=\"https://colab.research.google.com/github/Pedrotb11/ApiCatalogoJogos/blob/master/Aula_01_Tipos_de_Dados%2C_Operadores_Aritm%C3%A9ticos_e_Strings.ipynb\" target=\"_parent\"><img src=\"https://colab.research.google.com/assets/colab-badge.svg\" alt=\"Open In Colab\"/></a>"
      ]
    },
    {
      "cell_type": "markdown",
      "metadata": {
        "id": "9ujEVvoCTM6p"
      },
      "source": [
        "<img src=\"https://www.cesar.school/wp-content/uploads/2019/09/marca_cesar_school.png\" alt=\"drawing\" width=\"200\"/>\n",
        "\n",
        "# Python - **Aula 01**\n",
        "\n",
        "---\n",
        "\n",
        "- Markdown\n",
        "- Entender conceitos básicos sobre programação;\n",
        "- Conhecer a linguagem Python;\n",
        "- Variáveis;\n",
        "- Tipos de dados;\n",
        "- Manipulação de strings."
      ]
    },
    {
      "cell_type": "markdown",
      "metadata": {
        "id": "5z6u_UB-KWiL"
      },
      "source": [
        "# Colab e Markdown\n",
        "\n",
        "O Colab possui dois tipos de células: **código** e **texto**.\n",
        "\n",
        "Nas células de código, você pode programar e executar os scripts usando Python.\n",
        "\n",
        "Nas células de texto é possível usar a linguagem de marcação [Markdown](https://daringfireball.net/projects/markdown/syntax). Você pode consultar alguns guias sobre o uso do Markdown nesses links:\n",
        "- https://colab.research.google.com/notebooks/markdown_guide.ipynb\n",
        "- https://docs.pipz.com/central-de-ajuda/learning-center/guia-basico-de-markdown#open"
      ]
    },
    {
      "cell_type": "markdown",
      "metadata": {
        "id": "L1rO4J92bWIu"
      },
      "source": [
        "# Introdução à variáveis\n",
        "\n",
        "Em termos técnicos, uma variável atribui um local de armazenamento na memória a um valor que está vinculado a um nome ou identificador simbólico. O nome da variável é usado para fazer referência a esse valor armazenado em um programa de computador."
      ]
    },
    {
      "cell_type": "code",
      "metadata": {
        "id": "gbAP6hlEbYeI"
      },
      "source": [
        "my_int = 103204934813\n",
        "age = 28"
      ],
      "execution_count": null,
      "outputs": []
    },
    {
      "cell_type": "markdown",
      "metadata": {
        "id": "AVxtUEgYxRio"
      },
      "source": [
        "*   o nome da variável `my_int`\n",
        "*   o operador de atribuição, também conhecido como sinal de igual `=`\n",
        "*   o valor que está sendo vinculado ao nome da variável `103204934813`"
      ]
    },
    {
      "cell_type": "markdown",
      "metadata": {
        "id": "nKUGVOS2rW96"
      },
      "source": [
        "Em Python, a declaração de uma variável é feita apenas no momento de sua atribuição, não sendo necessário definir explicitamente seu tipo."
      ]
    },
    {
      "cell_type": "markdown",
      "metadata": {
        "id": "AFQKUYj3c1It"
      },
      "source": [
        "## Regras para criação de nomes de variáveis:\n",
        "\n",
        "- Não pode começar com número;\n",
        "- Não pode haver espaço (use `_`);\n",
        "- Não pode haver caracteres especiais: `\" ' , < > | / \\ ( ) @ ! # $ % ^ & * ~ - +`\n",
        "\n",
        "##Reatribuindo Variáveis"
      ]
    },
    {
      "cell_type": "code",
      "metadata": {
        "id": "S3sVtJ7aucvi"
      },
      "source": [
        ""
      ],
      "execution_count": null,
      "outputs": []
    },
    {
      "cell_type": "markdown",
      "metadata": {
        "id": "ZCwnLtoO4X1t"
      },
      "source": [
        "# `print()`\n",
        "\n",
        "Exibe o valor de uma ou várias variáveis.\n",
        "\n",
        "```python\n",
        "print('exemplo')\n",
        "print('exemplo', 'vários', 'valores')\n",
        "print(variavel1, variavel2, variavel3)\n",
        "```\n"
      ]
    },
    {
      "cell_type": "code",
      "metadata": {
        "id": "COYy4k4i5lw7"
      },
      "source": [
        ""
      ],
      "execution_count": null,
      "outputs": []
    },
    {
      "cell_type": "code",
      "source": [
        ""
      ],
      "metadata": {
        "id": "wsu5y6cKmEk-"
      },
      "execution_count": null,
      "outputs": []
    },
    {
      "cell_type": "markdown",
      "metadata": {
        "id": "UUnLyISHNT2K"
      },
      "source": [
        "##Atribuição múltipla\n",
        "\n",
        "Com Python, você pode atribuir um único valor a várias variáveis ​​ao mesmo tempo. Isso permite inicializar várias variáveis ​​de uma vez, que você mesmo pode reatribuir posteriormente no programa ou por meio da entrada do usuário.\n",
        "\n",
        "```python\n",
        "x = y = z = 0\n",
        "```\n",
        "\n",
        "Outra possibilidade, é atribuir vários valores diferentes para variáveis específicas.\n",
        "\n",
        "```python\n",
        "x, y, z = 10, 15, 20\n",
        "```"
      ]
    },
    {
      "cell_type": "code",
      "metadata": {
        "id": "HtUBkYLeNbgz"
      },
      "source": [
        ""
      ],
      "execution_count": null,
      "outputs": []
    },
    {
      "cell_type": "markdown",
      "metadata": {
        "id": "WHLD7iQHzhc9"
      },
      "source": [
        "\n",
        "#Criação e impressão de strings\n",
        "\n",
        "Textos (strings) existem entre aspas simples `'` ou duplas `\"` em Python, portanto, para criar uma string, coloque uma sequência de caracteres em um ou outro.\n",
        "\n",
        "```python\n",
        "s1 = 'Esta é uma string entre aspas simples.'\n",
        "\n",
        "s2 = \"Esta é uma string entre aspas duplas.\"\n",
        "\n",
        "s3 = '''Essa é uma string\n",
        "entre aspas triplas'''\n",
        "```\n",
        "\n",
        "Podemos imprimir strings simplesmente chamando a função `print()`"
      ]
    },
    {
      "cell_type": "code",
      "metadata": {
        "id": "pT8v2fX3T0P_"
      },
      "source": [
        ""
      ],
      "execution_count": null,
      "outputs": []
    },
    {
      "cell_type": "markdown",
      "metadata": {
        "id": "FfEWOwmhVLhE"
      },
      "source": [
        "## Sintaxe do comentário\n",
        "\n",
        "Para escrever comentários em Python usamos o caractere de hash `#`. Tudo o que estiver escrito a direita dele será ignorado até o fim da linha.\n",
        "\n",
        "```python\n",
        "# comentário de linha\n",
        "```\n",
        "\n",
        "É possível ainda escrever um bloco de comentário usando \"aspas triplas\":\n",
        "```python\n",
        "'''exemplo de\n",
        "comentário\n",
        "em várias linhas'''\n",
        "```\n"
      ]
    },
    {
      "cell_type": "code",
      "metadata": {
        "id": "I8hKONOyVQOw"
      },
      "source": [
        ""
      ],
      "execution_count": null,
      "outputs": []
    },
    {
      "cell_type": "markdown",
      "metadata": {
        "id": "W7GPfOkUwNgg"
      },
      "source": [
        "### Comentários inline\n",
        "Os comentários *inline* ocorrem na mesma linha de uma instrução, seguindo o próprio código.\n",
        "\n",
        "Geralmente, os comentários inline são assim:\n",
        "\n",
        "```python\n",
        "x = 8 # a variável x recebe 8 👍\n",
        "```"
      ]
    },
    {
      "cell_type": "code",
      "metadata": {
        "id": "9BlI5KrMwkQ1"
      },
      "source": [
        ""
      ],
      "execution_count": null,
      "outputs": []
    },
    {
      "cell_type": "markdown",
      "metadata": {
        "id": "WsXf_ireWQZd"
      },
      "source": [
        "# Tipos de dados\n",
        "\n",
        "É possível exibir os tipos de um valor ou variável usando a função `type()`.\n",
        "\n",
        "## Numéricos\n",
        "- `int` - Inteiros\n",
        "- `float` - Pontos Flutuantes\n",
        "\n",
        "## Texto\n",
        "- `str` - String\n",
        "\n",
        "## Booleano\n",
        "- `bool` - `True` ou `False`\n",
        "\n",
        "## Listas\n",
        "- `list` - [ ]\n",
        "\n",
        "## Sets\n",
        "- `set` - { }\n",
        "\n",
        "## Tuplas\n",
        "- `tuples` - ( )\n",
        "\n",
        "## Dicionários\n",
        "- `dictionary` - { }"
      ]
    },
    {
      "cell_type": "code",
      "metadata": {
        "id": "LrgPw5AZWYBY"
      },
      "source": [
        "# Exibir os tipos dos dados usando a função type()\n"
      ],
      "execution_count": null,
      "outputs": []
    },
    {
      "cell_type": "markdown",
      "metadata": {
        "id": "ziU9mBN7r3Bm"
      },
      "source": [
        "A flexibilidade da tipagem dinâmica é conseguência de duas estratégias implementadas na linguagem:\n",
        "- A primeira é conhecida como **Duck Typing**:\n",
        "> \"Se anda como pato, nada como um pato e faz quack como um pato, então provavelmente é um pato\"\n",
        "\n",
        "- A segunda é a abordagem **EAFP**:\n",
        "> \"*It is Easier to Ask for Forgiveness than Permission*\"\n",
        "> \n",
        "> \"É melhor pedir desculpas do que pedir permissão\"\n",
        ">\n",
        "> [Grace Hopper](https://en.wikipedia.org/wiki/Grace_Hopper)"
      ]
    },
    {
      "cell_type": "markdown",
      "metadata": {
        "id": "qf0JgZfioSeU"
      },
      "source": [
        "# Entrada de Dados\n",
        "Entrada de dados refere-se ao recebimento de informações do mundo externo para o meio digital.\n",
        "\n",
        "Em Python, pode ser feito usando a função `input()`.\n",
        "\n",
        "Sintaxe da função:\n",
        "\n",
        "```python\n",
        "variavel = input('mensagem opcional')\n",
        "```\n",
        "\n",
        "*Obs.: Os dados recebidos do input são sempre `str`.*"
      ]
    },
    {
      "cell_type": "code",
      "metadata": {
        "id": "0Ac7eUAxoaJB"
      },
      "source": [
        ""
      ],
      "execution_count": null,
      "outputs": []
    },
    {
      "cell_type": "markdown",
      "metadata": {
        "id": "gJStn9uApEa4"
      },
      "source": [
        "#Funções para conversão de tipo\n",
        "\n",
        "Algumas vezes é necessário converter valores de um tipo para outro. Em Python, todos os tipos possuem contrutores que podem ser usados para **tentar** converter dados de um formato para outro.\n",
        "\n",
        "```python\n",
        "int()\n",
        "float()\n",
        "bool()\n",
        "str()\n",
        "```\n"
      ]
    },
    {
      "cell_type": "markdown",
      "metadata": {
        "id": "WLn0pnTqnBh3"
      },
      "source": [
        "##Convertendo os tipos de número"
      ]
    },
    {
      "cell_type": "code",
      "metadata": {
        "id": "ZCEYln4WsTL5"
      },
      "source": [
        "# int → float\n",
        "\n",
        "\n",
        "# float → int\n",
        "\n",
        "\n",
        "# bool → int\n",
        "\n",
        "\n",
        "# str → int\n",
        "\n",
        "\n",
        "# str → float\n",
        "\n",
        "\n",
        "# str → bool\n",
        "\n",
        "\n",
        "# int → str\n",
        "\n",
        "\n",
        "# float → str\n",
        "\n",
        "\n",
        "# bool → str\n",
        "\n"
      ],
      "execution_count": null,
      "outputs": []
    },
    {
      "cell_type": "markdown",
      "metadata": {
        "id": "6fOqcWCyYMit"
      },
      "source": [
        "# Operações Aritméticas\n",
        "\n",
        "Em Python as 4 operações aritméticas básicas são feitas usando os tradicionais operadores `+`, `-`, `*` e `/`.\n",
        "\n",
        "- `x + y`:\tSoma de x e y\n",
        "- `x - y`:\tSubtração de x e y\n",
        "- `x * y`:\tMultiplicação de x e y\n",
        "- `x / y`:\tDivisão de x e y (gerando sempre um valor *float*)\n",
        "\n",
        "Os operadores de `+`  e `-` também podem ser usados para manipular o sinal do número:\n",
        "\n",
        "- `+x`:\tIdentidade de x\n",
        "- `-x`:\tSinal alterado de x\n",
        "\n",
        "Python também dispõe de outros operadores :\n",
        "\n",
        "- `x // y`:\tDivisão inteira de x e y\n",
        "- `x ** y`:\tx elevado a y\n",
        "- `x % y`:\tResto da divisão de x por y\n"
      ]
    },
    {
      "cell_type": "code",
      "metadata": {
        "id": "22HRvNH8YbN4"
      },
      "source": [
        ""
      ],
      "execution_count": null,
      "outputs": []
    },
    {
      "cell_type": "markdown",
      "metadata": {
        "id": "N5isIh00MSET"
      },
      "source": [
        "## Precedência aritmética\n",
        "\n",
        "A ordem das operações aritméticas em Python é semelhante a matemática e pode ser modificada com o uso de parênteses `()`\n",
        "\n",
        "A precedência aritmética em Python segue a ordem:\n",
        "1. `()`\n",
        "2. `**`\n",
        "3. `*`, `/` (*left-associative*)\n",
        "4. `+`, `-` (*left-associative*)\n",
        "\n",
        "```python\n",
        "2 + 10 * 10 - 5 # 97\n",
        "(2 + 10) * (10 - 5) # 60\n",
        "```"
      ]
    },
    {
      "cell_type": "code",
      "metadata": {
        "id": "oeCcf8PJCr-C"
      },
      "source": [
        "\n"
      ],
      "execution_count": null,
      "outputs": []
    },
    {
      "cell_type": "markdown",
      "metadata": {
        "id": "Ohy7mWPJRWbJ"
      },
      "source": [
        "##Operadores de atribuição\n",
        "\n",
        "Podem ser usados para incrementar ou decrementar um valor.\n",
        "\n",
        "* `+=` adiciona e atribui o valor\n",
        "* `-=` subtrai e atribui o valor\n",
        "* `*=` multiplica e atribui o valor\n",
        "* `/=` divide e atribui o valor\n",
        "* `//=` divide e depois atribuir o valor em inteiro\n",
        "* `**=` aumentar a potência e então atribuir o valor\n",
        "* `%=` retorna o resto da divisão e depois atribui o valor\n",
        "\n"
      ]
    },
    {
      "cell_type": "code",
      "metadata": {
        "id": "wASxPioUTGTA"
      },
      "source": [
        ""
      ],
      "execution_count": null,
      "outputs": []
    },
    {
      "cell_type": "markdown",
      "source": [
        "# `str`"
      ],
      "metadata": {
        "id": "cgAaunZIs2fI"
      }
    },
    {
      "cell_type": "markdown",
      "source": [
        "## str\n",
        "\n",
        "Em Python, textos são armazenados como uma sequência de caracteres [Unicode](https://pt.wikipedia.org/wiki/Unicode). Essa seguência, conhecida como **String** é representada no Python com o tipo `str`.\n",
        "\n",
        "[ASCII](https://www.ime.usp.br/~kellyrb/mac2166_2015/tabela_ascii.html)\n",
        "\n",
        "Ex.: `'Exemplo de Texto'`\n",
        "\n",
        "Por ser uma sequência, é possivel acessar cada caracter através de um índice. Além disso, o tipo `str` fornece uma variedade de métodos de manipulação desses caracteres.\n",
        "\n",
        "Para criar uma variável `str`, é possível usar aspas simples, duplas ou \"triplas\":"
      ],
      "metadata": {
        "id": "7B8t7hQ8s93h"
      }
    },
    {
      "cell_type": "code",
      "source": [
        "# Aspas simples\n",
        "\n",
        "\n",
        "# Aspas duplas\n",
        "\n",
        "\n",
        "# Aspas triplas*\n",
        "\n"
      ],
      "metadata": {
        "id": "nP3yAMSMtEnZ"
      },
      "execution_count": null,
      "outputs": []
    },
    {
      "cell_type": "markdown",
      "source": [
        "## Caracteres de Escape\n",
        "\n",
        "São chamados de **caracteres de escape** marcadores usados para acessar caracteres do código Unicode. Para escreve-los, use `contra-barra + caractere`:\n",
        "\n",
        "| sintaxe | descrição |\n",
        "|---------|-----------|\n",
        "| `\\n` | Quebra de linha |\n",
        "| `\\t` | Tabulação |\n",
        "| `\\'` | Aspas simples |\n",
        "| `\\\"` | Aspas duplas |\n",
        "| `\\\\` | Contra-barra |\n",
        "\n",
        "> Obs.: A interpretação dos caracteres de escape pode ser \"desativada\" usando Raw Strings, marcadas com um `r` antes das aspas:\n",
        "```python\n",
        "text = r'Exemplo de texto\\nSem caracteres de escape'\n",
        "```"
      ],
      "metadata": {
        "id": "YAbAM1mftKVQ"
      }
    },
    {
      "cell_type": "code",
      "source": [
        "# caracteres de escape\n",
        "\n",
        "\n",
        "# r-strings\n",
        "\n"
      ],
      "metadata": {
        "id": "0Jx38ObWtMtd"
      },
      "execution_count": null,
      "outputs": []
    },
    {
      "cell_type": "markdown",
      "source": [
        "## Função embutida `len()`\n",
        "\n",
        "A função `len()` retorna a quantidade de itens dentro de um \"container\". Como as strings de Python são coleções de caracteres, a função `len()` quando recebe uma string, retorna a quantade de caracteres do texto.\n",
        "\n",
        "```python\n",
        "text = 'supercalifragilisticexpialidocious'\n",
        "print(len(text)) # 34\n",
        "```"
      ],
      "metadata": {
        "id": "3Bmr_tV_tU5K"
      }
    },
    {
      "cell_type": "code",
      "source": [
        ""
      ],
      "metadata": {
        "id": "lBCd0yB_tWNF"
      },
      "execution_count": null,
      "outputs": []
    },
    {
      "cell_type": "markdown",
      "source": [
        "## str.find()\n",
        "\n",
        "Retorna a posição de uma determinada substring procurada.\n",
        "\n",
        "Se o valor retornado for:\n",
        "- `>= 0` : Substring encontrado numa posição específica\n",
        "- `< 0` : Substring não encontrado"
      ],
      "metadata": {
        "id": "9bUca3vst5KF"
      }
    },
    {
      "cell_type": "code",
      "source": [
        "#help(''.find)\n"
      ],
      "metadata": {
        "id": "rUfKhNxOt53B"
      },
      "execution_count": null,
      "outputs": []
    },
    {
      "cell_type": "markdown",
      "source": [
        "## str.count()\n",
        "\n",
        "Retorna a quantidade de ocorrências de determinada substring."
      ],
      "metadata": {
        "id": "iBUNDW32uADS"
      }
    },
    {
      "cell_type": "code",
      "source": [
        ""
      ],
      "metadata": {
        "id": "HdEjM-buuA1Z"
      },
      "execution_count": null,
      "outputs": []
    },
    {
      "cell_type": "markdown",
      "source": [
        "## Operações com Strings\n",
        "\n",
        "> ⚠ Strings em Python são imutáveis, o que signifca que atribuir um valor a uma posição indexada irá resultar em um erro.\n",
        "\n",
        "Os seguintes operadores podem ser usados com strings:\n",
        "\n",
        "- `+` - Concatenação\n",
        "- `*` - Repetição"
      ],
      "metadata": {
        "id": "6N3v6Sk5uBSh"
      }
    },
    {
      "cell_type": "code",
      "source": [
        "# concatenação\n",
        "\n",
        "\n",
        "# repetição\n",
        "\n"
      ],
      "metadata": {
        "id": "MVL14xfpuGEz"
      },
      "execution_count": null,
      "outputs": []
    },
    {
      "cell_type": "markdown",
      "source": [
        "## str.lower() e str.upper()\n",
        "\n",
        "- `.lower()` - Retorna uma nova string com caracteres em maiúsculo\n",
        "- `.upper()` - Retorna uma nova string com caracteres em minúsculo"
      ],
      "metadata": {
        "id": "WCFR_7kxuK-c"
      }
    },
    {
      "cell_type": "code",
      "source": [
        "# lower\n",
        "\n",
        "\n",
        "# upper\n",
        "\n"
      ],
      "metadata": {
        "id": "UKF-ZgHMuMmo"
      },
      "execution_count": null,
      "outputs": []
    },
    {
      "cell_type": "markdown",
      "source": [
        "## f-Strings\n",
        "\n",
        "> formatted string literals\n",
        "\n",
        "```python\n",
        "name = 'Erick'\n",
        "print(f'Meu nome é {name}')\n",
        "```\n",
        "\n",
        "Mais detalhes sobre f-Strings [aqui](https://realpython.com/python-f-strings/)."
      ],
      "metadata": {
        "id": "69y6WkJcuQl5"
      }
    },
    {
      "cell_type": "code",
      "source": [
        ""
      ],
      "metadata": {
        "id": "M5NVWOYFuPt6"
      },
      "execution_count": null,
      "outputs": []
    },
    {
      "cell_type": "markdown",
      "source": [
        "## str.split()\n",
        "\n",
        "Retorna uma lista de substrings dividido por um separador. Se nenhum parâmetro for passado, o separador (ou delimitador) adotado é o espaço em branco."
      ],
      "metadata": {
        "id": "rfLr3pt1uVC1"
      }
    },
    {
      "cell_type": "code",
      "source": [
        ""
      ],
      "metadata": {
        "id": "H-aeW7gMuWYo"
      },
      "execution_count": null,
      "outputs": []
    },
    {
      "cell_type": "markdown",
      "source": [
        "## str.replace()\n",
        "\n",
        "Retorna uma nova string com um texto substituído por outro.\n",
        "\n",
        "```python\n",
        "str.replace('old', 'new')\n",
        "```"
      ],
      "metadata": {
        "id": "ESVHNGimu1Bx"
      }
    },
    {
      "cell_type": "code",
      "source": [
        ""
      ],
      "metadata": {
        "id": "9ZkQ5AbWu1rI"
      },
      "execution_count": null,
      "outputs": []
    },
    {
      "cell_type": "markdown",
      "metadata": {
        "id": "ALgn8jEOXI8m"
      },
      "source": [
        "# Exercícios Fundamentais"
      ]
    },
    {
      "cell_type": "markdown",
      "metadata": {
        "id": "ok07GRowFijR"
      },
      "source": [
        "1. Faça um programa que mostre a mensagem \"*Alô mundo*\" na tela"
      ]
    },
    {
      "cell_type": "code",
      "metadata": {
        "id": "E-tm-Ac-dkKI"
      },
      "source": [
        ""
      ],
      "execution_count": null,
      "outputs": []
    },
    {
      "cell_type": "markdown",
      "metadata": {
        "id": "H9Xmh3n0dku7"
      },
      "source": [
        "2. Faça um programa que peça um número e então mostre a mensagem `O número informado foi [número]`."
      ]
    },
    {
      "cell_type": "code",
      "metadata": {
        "id": "oJxXXoQMePMm"
      },
      "source": [
        ""
      ],
      "execution_count": null,
      "outputs": []
    },
    {
      "cell_type": "markdown",
      "metadata": {
        "id": "Mc8ww-KEdndf"
      },
      "source": [
        "3. Faça um programa que peça dois números e imprima a soma."
      ]
    },
    {
      "cell_type": "code",
      "metadata": {
        "id": "SfwZe2zseO3m"
      },
      "source": [
        ""
      ],
      "execution_count": null,
      "outputs": []
    },
    {
      "cell_type": "markdown",
      "metadata": {
        "id": "MfVY2KazdpxA"
      },
      "source": [
        "4. Faça um programa que peça as 4 notas bimestrais e mostre a média."
      ]
    },
    {
      "cell_type": "code",
      "metadata": {
        "id": "B5dg4jyLeOV9"
      },
      "source": [
        ""
      ],
      "execution_count": null,
      "outputs": []
    },
    {
      "cell_type": "markdown",
      "metadata": {
        "id": "GYPjRaE1dsEo"
      },
      "source": [
        "5. Faça um programa que converta metros para centímetros."
      ]
    },
    {
      "cell_type": "code",
      "metadata": {
        "id": "bDTpB4hxeOAS"
      },
      "source": [
        ""
      ],
      "execution_count": null,
      "outputs": []
    },
    {
      "cell_type": "markdown",
      "metadata": {
        "id": "Iw_6PGlvdt2P"
      },
      "source": [
        "6. Faça um programa que peça o raio de um círculo, calcule e mostre sua área."
      ]
    },
    {
      "cell_type": "code",
      "metadata": {
        "id": "S47z_TEaydiM"
      },
      "source": [
        ""
      ],
      "execution_count": null,
      "outputs": []
    },
    {
      "cell_type": "code",
      "metadata": {
        "id": "QBB456-ceNox"
      },
      "source": [
        ""
      ],
      "execution_count": null,
      "outputs": []
    },
    {
      "cell_type": "markdown",
      "metadata": {
        "id": "6WX2yHw8dvgh"
      },
      "source": [
        "7. Faça um programa que calcule a área de um quadrado, em seguida mostre o dobro desta área para o usuário."
      ]
    },
    {
      "cell_type": "code",
      "metadata": {
        "id": "bq1uTrxieNIi"
      },
      "source": [
        ""
      ],
      "execution_count": null,
      "outputs": []
    },
    {
      "cell_type": "markdown",
      "metadata": {
        "id": "OHtr_FwmdxNL"
      },
      "source": [
        "8. Faça um programa que pergunte quanto você ganha por hora e o número de horas trabalhadas no mês. Calcule e mostre o total do seu salário no referido mês."
      ]
    },
    {
      "cell_type": "code",
      "metadata": {
        "id": "r8eK89x0eMzi"
      },
      "source": [
        ""
      ],
      "execution_count": null,
      "outputs": []
    },
    {
      "cell_type": "markdown",
      "metadata": {
        "id": "OTc5-XqodzSn"
      },
      "source": [
        "9. Faça um programa que peça a temperatura em graus Fahrenheit, transforme e mostre a temperatura em graus Celsius.\n",
        "\n",
        "  $ °C = 5 \\times ((°F-32) / 9) $\n"
      ]
    },
    {
      "cell_type": "code",
      "metadata": {
        "id": "bfkUM9cceMbv"
      },
      "source": [
        ""
      ],
      "execution_count": null,
      "outputs": []
    },
    {
      "cell_type": "markdown",
      "metadata": {
        "id": "E17ya82wd1rv"
      },
      "source": [
        "10. Faça um programa que peça a temperatura em graus Celsius, transforme e mostre em graus Fahrenheit.\n",
        "\n",
        "  $°F = (°C \\times 9 / 5) + 32 $"
      ]
    },
    {
      "cell_type": "code",
      "metadata": {
        "id": "5f6H4KPoeMBf"
      },
      "source": [
        ""
      ],
      "execution_count": null,
      "outputs": []
    },
    {
      "cell_type": "markdown",
      "metadata": {
        "id": "gfkqRT1hd5Uq"
      },
      "source": [
        "11. Faça um programa que peça 2 números inteiros e um número real. Calcule e mostre:\n",
        "- O produto do dobro do primeiro com metade do segundo.\n",
        "- Soma do triplo do primeiro com o terceiro.\n",
        "- Terceiro elevado ao cubo."
      ]
    },
    {
      "cell_type": "code",
      "metadata": {
        "id": "U0LGrxCYeLbT"
      },
      "source": [
        ""
      ],
      "execution_count": null,
      "outputs": []
    },
    {
      "cell_type": "markdown",
      "metadata": {
        "id": "GeccMwZid7LV"
      },
      "source": [
        "12. Tendo como dados de entrada a altura de uma pessoa, construa um algoritmo que calcule seu peso ideal em Kg usando a seguinte fórmula:\n",
        "\n",
        "  $ peso\\_ideal = (72.7 \\times altura) - 58 $"
      ]
    },
    {
      "cell_type": "code",
      "metadata": {
        "id": "KG7NZMI4eK-R"
      },
      "source": [
        ""
      ],
      "execution_count": null,
      "outputs": []
    },
    {
      "cell_type": "markdown",
      "metadata": {
        "id": "TGfnvz6rd9Q3"
      },
      "source": [
        "13. Tendo como dado de entrada a altura ($h$) de uma pessoa, construa um algoritmo que calcule seu peso ideal, utilizando as seguintes fórmulas:\n",
        "- Para homens: $ (72.7 \\times h) - 58 $\n",
        "- Para mulheres: $ (62.1 \\times h) - 44.7 $"
      ]
    },
    {
      "cell_type": "code",
      "metadata": {
        "id": "OmLkbOULeKjQ"
      },
      "source": [
        ""
      ],
      "execution_count": null,
      "outputs": []
    },
    {
      "cell_type": "markdown",
      "source": [
        "14. Escreva um programa que substitui as ocorrencias de um caractere 0 em uma string por outro caractere 1."
      ],
      "metadata": {
        "id": "Cr8RPYwnvM0p"
      }
    },
    {
      "cell_type": "code",
      "source": [
        ""
      ],
      "metadata": {
        "id": "1pv1JvIRvNqs"
      },
      "execution_count": null,
      "outputs": []
    },
    {
      "cell_type": "markdown",
      "source": [
        "15. Faça um programa que receba do usuario uma string. O programa imprime a string sem suas vogais."
      ],
      "metadata": {
        "id": "zUyvVX7zvTZM"
      }
    },
    {
      "cell_type": "code",
      "source": [
        ""
      ],
      "metadata": {
        "id": "4Wv_87d9vUCC"
      },
      "execution_count": null,
      "outputs": []
    },
    {
      "cell_type": "markdown",
      "metadata": {
        "id": "yeXJC3JHIsDV"
      },
      "source": [
        "# Exercícios complementares"
      ]
    },
    {
      "cell_type": "markdown",
      "metadata": {
        "id": "XH9X194beCpW"
      },
      "source": [
        "16. Faça um programa que pergunte quanto você ganha por hora e o número de horas trabalhadas no mês. Calcule e mostre o total do seu salário no referido mês, sabendo-se que são descontados 11% para o Imposto de Renda, 8% para o INSS e 5% para o sindicato, faça um programa que nos dê:\n",
        "    - salário bruto.\n",
        "    - quanto pagou ao INSS.\n",
        "    - quanto pagou ao sindicato.\n",
        "    - o salário líquido.\n",
        "    - calcule os descontos e o salário líquido, conforme a tabela abaixo:\n",
        "\n",
        "```\n",
        "            + Salário Bruto : R$\n",
        "            - IR (11%) : R$\n",
        "            - INSS (8%) : R$\n",
        "            - Sindicato ( 5%) : R$\n",
        "            = Salário Liquido : R$\n",
        "```\n",
        "> Obs.: Salário Bruto - Descontos = Salário Líquido.\n"
      ]
    },
    {
      "cell_type": "code",
      "metadata": {
        "id": "bTjIis6yeJDi"
      },
      "source": [
        ""
      ],
      "execution_count": null,
      "outputs": []
    },
    {
      "cell_type": "markdown",
      "metadata": {
        "id": "nsH6ogQWeHGf"
      },
      "source": [
        "17. Faça um programa que peça o tamanho de um arquivo para download (em MB) e a velocidade de um link de Internet (em Mbps), calcule e informe o tempo aproximado de download do arquivo usando este link (em minutos)."
      ]
    },
    {
      "cell_type": "code",
      "metadata": {
        "id": "KfQCgryMeHsf"
      },
      "source": [
        ""
      ],
      "execution_count": null,
      "outputs": []
    },
    {
      "cell_type": "markdown",
      "metadata": {
        "id": "rUcxxTf6d_4G"
      },
      "source": [
        "18. João Papo-de-Pescador, homem de bem, comprou um microcomputador para controlar o rendimento diário de seu trabalho. Toda vez que ele traz um peso de peixes maior que o estabelecido pelo regulamento de pesca do estado de São Paulo (50 quilos) deve pagar uma multa de R\\$ 4,00 por quilo excedente. João precisa que você faça um programa que leia a variável peso (peso de peixes) e calcule o excesso. Gravar na variável excesso a quantidade de quilos além do limite e na variável multa o valor da multa que João deverá pagar. Imprima os dados do programa com as mensagens adequadas."
      ]
    },
    {
      "cell_type": "code",
      "metadata": {
        "id": "LacOhDYmeKAW"
      },
      "source": [
        ""
      ],
      "execution_count": null,
      "outputs": []
    },
    {
      "cell_type": "markdown",
      "metadata": {
        "id": "dQgoUp4FeEjs"
      },
      "source": [
        "19. Faça um programa para uma loja de tintas. O programa deverá pedir o tamanho em metros quadrados da área a ser pintada. Considere que a cobertura da tinta é de 1 litro para cada 3 metros quadrados e que a tinta é vendida em latas de 18 litros, que custam R\\$ 80,00. Informe ao usuário a quantidades de latas de tinta a serem compradas e o preço total. Obs.: somente são vendidos um número inteiro de latas."
      ]
    },
    {
      "cell_type": "code",
      "metadata": {
        "id": "BLgRrbqteIiY"
      },
      "source": [
        "# 1 litro de tinta --> 3 m²\n",
        "# 1 lata de tinta --> 18 L\n",
        "# 1 litro de tinta x lata de tinta --> 54 m²\n",
        "# 1 lata de tinta = R$ 80.00\n",
        "\n"
      ],
      "execution_count": null,
      "outputs": []
    },
    {
      "cell_type": "markdown",
      "metadata": {
        "id": "aDlscibneF_-"
      },
      "source": [
        "20. Faça um Programa para uma loja de tintas. O programa deverá pedir o tamanho em metros quadrados da área a ser pintada. Considere que a cobertura da tinta é de 1 litro para cada 6 metros quadrados e que a tinta é vendida em latas de 18 litros, que custam R\\$ 80,00 ou em galões de 3,6 litros, que custam R\\$ 25,00.\n",
        "  - Informe ao usuário as quantidades de tinta a serem compradas e os respectivos preços em 3 situações:\n",
        "  - comprar apenas latas de 18 litros;\n",
        "  - comprar apenas galões de 3,6 litros;\n",
        "  - misturar latas e galões, de forma que o desperdício de tinta seja menor. Acrescente 10% de folga e sempre arredonde os valores para cima, isto é, considere latas cheias."
      ]
    },
    {
      "cell_type": "code",
      "metadata": {
        "id": "wH56ThFaeIOx"
      },
      "source": [
        "# Resolução\n",
        "\n",
        "# 1 litro de tinta --> 6 m²\n",
        "\n",
        "# 1 lata de tinta --> 18 L\n",
        "# 1 litro de tinta x lata de tinta --> 108 m²\n",
        "# 18L de tinta = R$ 80.00\n",
        "\n",
        "# 1 lata de tinta --> 3,6 L\n",
        "# 1 litro de tinta x lata de tinta --> 21,6 m²\n",
        "# 3,6L de tinta = R$ 25.00\n",
        "\n"
      ],
      "execution_count": null,
      "outputs": []
    }
  ]
}